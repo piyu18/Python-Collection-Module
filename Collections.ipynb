{
  "nbformat": 4,
  "nbformat_minor": 0,
  "metadata": {
    "colab": {
      "provenance": [],
      "authorship_tag": "ABX9TyMIHKSQko9vU5zqgpqa2quA",
      "include_colab_link": true
    },
    "kernelspec": {
      "name": "python3",
      "display_name": "Python 3"
    },
    "language_info": {
      "name": "python"
    }
  },
  "cells": [
    {
      "cell_type": "markdown",
      "metadata": {
        "id": "view-in-github",
        "colab_type": "text"
      },
      "source": [
        "<a href=\"https://colab.research.google.com/github/piyu18/Python-Collection-Module/blob/main/Collections.ipynb\" target=\"_parent\"><img src=\"https://colab.research.google.com/assets/colab-badge.svg\" alt=\"Open In Colab\"/></a>"
      ]
    },
    {
      "cell_type": "markdown",
      "source": [
        "#### Counter \n",
        "is a dict subclass for counting hashable objects. It is a collection where elements are stored as dictionary keys and their counts are stored as dictionary values."
      ],
      "metadata": {
        "id": "JoKPbWmh49la"
      }
    },
    {
      "cell_type": "code",
      "execution_count": 1,
      "metadata": {
        "colab": {
          "base_uri": "https://localhost:8080/"
        },
        "id": "3eB8x95WS1zY",
        "outputId": "c8eeeeb5-4d43-4c28-de11-f484622df7ee"
      },
      "outputs": [
        {
          "output_type": "stream",
          "name": "stdout",
          "text": [
            "Counter({'a': 5, 'b': 4, 'e': 4, 'c': 3, 'd': 2, 'f': 1})\n"
          ]
        }
      ],
      "source": [
        "from collections import Counter\n",
        "a = \"aaaaabbbbcccddeeeef\"\n",
        "my_counter = Counter(a)\n",
        "print(my_counter)"
      ]
    },
    {
      "cell_type": "markdown",
      "source": [
        "#### namedtuple\n",
        "factory function for creating tuple subclasses with named fields"
      ],
      "metadata": {
        "id": "mbFKU6B95Nq8"
      }
    },
    {
      "cell_type": "code",
      "source": [
        "from collections import namedtuple\n",
        "# Declaring namedtuple()\n",
        "Student = namedtuple('Student', ['name', 'salary'])\n",
        "s = Student('Priya','2000')\n",
        "# Access using index\n",
        "print('Student salary is',s[1])\n",
        "# Access using key\n",
        "print('Student name is',s.name)"
      ],
      "metadata": {
        "colab": {
          "base_uri": "https://localhost:8080/"
        },
        "id": "FTFn0XdATL-K",
        "outputId": "9b28c3b0-74b4-4418-d205-b58c1c8c11fe"
      },
      "execution_count": 3,
      "outputs": [
        {
          "output_type": "stream",
          "name": "stdout",
          "text": [
            "Student salary is 2000\n",
            "Student name is Priya\n"
          ]
        }
      ]
    },
    {
      "cell_type": "markdown",
      "source": [
        "#### OrderedDict\n",
        "is a dictionary subclass that remembers the order in which keys were first inserted. OrderedDict preserves the order in which keys are inserted while in dict insertion order is not tracked."
      ],
      "metadata": {
        "id": "f-Gi704T5X-p"
      }
    },
    {
      "cell_type": "code",
      "source": [
        "from collections import OrderedDict\n",
        "dict1 = {}\n",
        "dict1['a'] = 1\n",
        "dict1['b'] = 2\n",
        "dict1['c'] = 3\n",
        "dict1['d'] = 4\n",
        "print('Normal dictionary',dict1)\n",
        "# create an Ordered dict\n",
        "od = OrderedDict()\n",
        "od['a'] = 1\n",
        "od['b'] = 2\n",
        "od['c'] = 3\n",
        "od['d'] = 4\n",
        "print('Ordered Dictionary',od)\n",
        "for key, value in od.items():\n",
        "    print(key, value)"
      ],
      "metadata": {
        "colab": {
          "base_uri": "https://localhost:8080/"
        },
        "id": "pe058m-6WUDW",
        "outputId": "ecca77bb-10dc-499b-924d-d95648465650"
      },
      "execution_count": 6,
      "outputs": [
        {
          "output_type": "stream",
          "name": "stdout",
          "text": [
            "Normal dictionary {'a': 1, 'b': 2, 'c': 3, 'd': 4}\n",
            "Ordered Dictionary OrderedDict([('a', 1), ('b', 2), ('c', 3), ('d', 4)])\n",
            "a 1\n",
            "b 2\n",
            "c 3\n",
            "d 4\n"
          ]
        }
      ]
    },
    {
      "cell_type": "markdown",
      "source": [
        "#### defaultdict\n",
        "dict subclass that calls a factory function to supply missing values. It simply means that defaultdict never raises a KeyError in fact it provides a default value for the key which does not exist."
      ],
      "metadata": {
        "id": "otmf40X75hn0"
      }
    },
    {
      "cell_type": "code",
      "source": [
        "from collections import defaultdict\n",
        "def def_value():\n",
        "    return \"Key Not Found !\"\n",
        "d = defaultdict(def_value)\n",
        "d['a'] = 1\n",
        "d['b'] = 2\n",
        "print(d['a'])\n",
        "print(d['c'])"
      ],
      "metadata": {
        "colab": {
          "base_uri": "https://localhost:8080/"
        },
        "id": "GY9y1WO_aB69",
        "outputId": "6f670933-bfe1-461b-840c-805cd831be5b"
      },
      "execution_count": 7,
      "outputs": [
        {
          "output_type": "stream",
          "name": "stdout",
          "text": [
            "1\n",
            "Key Not Found !\n"
          ]
        }
      ]
    },
    {
      "cell_type": "markdown",
      "source": [
        "#### deque \n",
        "list-like container with fast appends and pops on either end. It is preferred over list because time complexity of list is O(1) whereas for list its O(n)."
      ],
      "metadata": {
        "id": "nLSgyqtJ5rWW"
      }
    },
    {
      "cell_type": "code",
      "source": [
        "# Appending Items\n",
        "import collections\n",
        "de = collections.deque([1,2,3,5,7])\n",
        "de.append(23)\n",
        "print(de)\n",
        "de.appendleft(0)\n",
        "print(de)"
      ],
      "metadata": {
        "colab": {
          "base_uri": "https://localhost:8080/"
        },
        "id": "iNNZQfchj3gp",
        "outputId": "d8d24110-a743-44bb-c33b-cce243b9ea84"
      },
      "execution_count": 8,
      "outputs": [
        {
          "output_type": "stream",
          "name": "stdout",
          "text": [
            "deque([1, 2, 3, 5, 7, 23])\n",
            "deque([0, 1, 2, 3, 5, 7, 23])\n"
          ]
        }
      ]
    },
    {
      "cell_type": "code",
      "source": [
        "# Popping Items\n",
        "de = collections.deque([1,2,3,5,7])\n",
        "# pop item from the right side\n",
        "de.pop()\n",
        "print(de)\n",
        "# pop item from the left side\n",
        "de.popleft()\n",
        "print(de)"
      ],
      "metadata": {
        "colab": {
          "base_uri": "https://localhost:8080/"
        },
        "id": "85yZ-hi0lY00",
        "outputId": "507e4d70-5469-45fb-dffc-9696c640ffe1"
      },
      "execution_count": 9,
      "outputs": [
        {
          "output_type": "stream",
          "name": "stdout",
          "text": [
            "deque([1, 2, 3, 5])\n",
            "deque([2, 3, 5])\n"
          ]
        }
      ]
    },
    {
      "cell_type": "markdown",
      "source": [
        "#### ChainMap\n",
        "groups multiple dicts or other mappings together to create a single, updateable view."
      ],
      "metadata": {
        "id": "3hwU7TcJneFk"
      }
    },
    {
      "cell_type": "code",
      "source": [
        "from collections import ChainMap\n",
        "d1 = {'a': 10, 'b': 20} \n",
        "d2 = {'c': 30, 'd': 40} \n",
        "d3 = {'e': 50, 'f': 60}\n",
        "\n",
        "d = ChainMap(d1, d2, d3)\n",
        "d"
      ],
      "metadata": {
        "colab": {
          "base_uri": "https://localhost:8080/"
        },
        "id": "w10F9NzDmJDn",
        "outputId": "a50710c2-3530-469b-a322-1a6ec0a2200e"
      },
      "execution_count": 11,
      "outputs": [
        {
          "output_type": "execute_result",
          "data": {
            "text/plain": [
              "ChainMap({'a': 10, 'b': 20}, {'c': 30, 'd': 40}, {'e': 50, 'f': 60})"
            ]
          },
          "metadata": {},
          "execution_count": 11
        }
      ]
    },
    {
      "cell_type": "markdown",
      "source": [
        "### UserDict \n",
        "acts as a wrapper around dictionary objects."
      ],
      "metadata": {
        "id": "muxm6PYyogfj"
      }
    },
    {
      "cell_type": "code",
      "source": [
        "from collections import UserDict\n",
        "d1 = {'a': 10, 'b': 20}\n",
        "# Creating an UserDict\n",
        "userD = UserDict(d1)\n",
        "print(userD.data)"
      ],
      "metadata": {
        "colab": {
          "base_uri": "https://localhost:8080/"
        },
        "id": "SVN4iFZ3nTmV",
        "outputId": "ad444edf-8aaf-45f0-955e-0fb14ca977cc"
      },
      "execution_count": 13,
      "outputs": [
        {
          "output_type": "stream",
          "name": "stdout",
          "text": [
            "{'a': 10, 'b': 20}\n"
          ]
        }
      ]
    },
    {
      "cell_type": "code",
      "source": [
        "# Creating an empty UserDict\n",
        "userD = UserDict()\n",
        "print(userD.data)"
      ],
      "metadata": {
        "colab": {
          "base_uri": "https://localhost:8080/"
        },
        "id": "_z-H27ECoN9Q",
        "outputId": "547a3cd3-7155-41f5-b9b9-fa55c2efc7a5"
      },
      "execution_count": 14,
      "outputs": [
        {
          "output_type": "stream",
          "name": "stdout",
          "text": [
            "{}\n"
          ]
        }
      ]
    },
    {
      "cell_type": "markdown",
      "source": [
        "###\tUserList\n",
        "acts as a wrapper around the list object."
      ],
      "metadata": {
        "id": "g8BbdpLIopUH"
      }
    },
    {
      "cell_type": "code",
      "source": [
        "from collections import UserList\n",
        "li = [1,2,3,4,5,6]\n",
        "# Creating a userlist\n",
        "userL = UserList(li)\n",
        "print(userL.data)"
      ],
      "metadata": {
        "colab": {
          "base_uri": "https://localhost:8080/"
        },
        "id": "W3bOp1J4ocT3",
        "outputId": "4210fcd7-56f9-4a69-af0d-e1d58f44100b"
      },
      "execution_count": 15,
      "outputs": [
        {
          "output_type": "stream",
          "name": "stdout",
          "text": [
            "[1, 2, 3, 4, 5, 6]\n"
          ]
        }
      ]
    },
    {
      "cell_type": "code",
      "source": [
        "from collections import UserString\n",
        "x = 12344\n",
        " \n",
        "# Creating an UserDict\n",
        "userStr = UserString(x)\n",
        "print(userStr.data)"
      ],
      "metadata": {
        "colab": {
          "base_uri": "https://localhost:8080/"
        },
        "id": "RsEiom2csh4j",
        "outputId": "3ddc4e6e-ffc8-49d3-e5e6-a5ecf5b9daec"
      },
      "execution_count": 16,
      "outputs": [
        {
          "output_type": "stream",
          "name": "stdout",
          "text": [
            "12344\n"
          ]
        }
      ]
    },
    {
      "cell_type": "code",
      "source": [],
      "metadata": {
        "id": "biBhlX5WtaSU"
      },
      "execution_count": null,
      "outputs": []
    }
  ]
}